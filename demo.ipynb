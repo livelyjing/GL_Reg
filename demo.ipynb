{
 "cells": [
  {
   "cell_type": "code",
   "execution_count": 2,
   "id": "c6ebc1d1",
   "metadata": {},
   "outputs": [],
   "source": [
    "import numpy as np\n",
    "import networkx as nx\n",
    "\n",
    "import GL_Reg as glr"
   ]
  },
  {
   "cell_type": "markdown",
   "id": "2d0e4213",
   "metadata": {},
   "source": [
    "# Description \n",
    "\n",
    "This notebook gives examples to functions used test our Graph Learning with Regressors, *GLRegression()* algorithm. For details of all functions inputs see the comments in the various modules. "
   ]
  },
  {
   "cell_type": "markdown",
   "id": "337eb806",
   "metadata": {},
   "source": [
    "# Generating a Graph/Signals\n",
    "\n",
    "We can use NetworkX library of random graph models to generate a ground truth graph laplacian, and normalize it so the diagonal sum is the number of nodes. "
   ]
  },
  {
   "cell_type": "code",
   "execution_count": 3,
   "id": "7d38dbb6",
   "metadata": {},
   "outputs": [],
   "source": [
    "G_BA = nx.barabasi_albert_graph(20,1,seed = 777)\n",
    "L_BA = nx.laplacian_matrix(G_BA).toarray()\n",
    "normL_BA = (L_BA.shape[0]/np.trace(L_BA))*L_BA"
   ]
  },
  {
   "cell_type": "markdown",
   "id": "6286c199",
   "metadata": {},
   "source": [
    "In the **utilities.py** module you will find several functions for generating synthetic data according to the following distributions:\n",
    "\n",
    "    * Normal\n",
    "    * Binomial\n",
    "    * Exponetial \n",
    "    * Poisson \n",
    "    * Gamma\n",
    "    * Power\n",
    "    * Rayleigh \n",
    "    \n",
    "You can also use the *genAllDist()* function to generate signals following all the supported distributions.\n",
    "\n",
    "Here, we will just use a normal distribution."
   ]
  },
  {
   "cell_type": "code",
   "execution_count": 4,
   "id": "e8bdd9b1",
   "metadata": {},
   "outputs": [],
   "source": [
    "Signals, Regressors = glr.genNormal(G_BA)"
   ]
  },
  {
   "cell_type": "markdown",
   "id": "613ebac6",
   "metadata": {},
   "source": [
    "# Finding Hyper-Parameters\n",
    "\n",
    "In order to find suitable hyper-parameters we use a form of recursive grid search. The grid is formed from a center point, $P = (x_0, y_0)$, a distance from the center to the border, $\\epsilon$. These numbers are then rounded by a specified ammount (default 4 digits).\n",
    "\n",
    "For example, if $P = (1,1)$, $\\epsilon = .9$ we would get the points formed from the cartesian product of the following set:\n",
    "\n",
    "$$[0.1, 0.55, 1.0, 1.45, 1.9]$$\n",
    "\n",
    "We default to these values in order to avoid getting points like $(0,0)$, $(a, 0)$ or $(0, a)$. However, we still want to search around zero, so the point $(.01, .01)$ is added to our grid in the first pass. \n",
    "\n",
    "We update the center to be the best point found, and then we rescale $\\epsilon \\rightarrow .1\\cdot \\epsilon$. The new grid of 25 points is searched and this process is repeated however many times is specified by *max_iters*. We default the maximum iterations to 3, because in practice we didn't find it necessary to search deeper. "
   ]
  },
  {
   "cell_type": "code",
   "execution_count": 5,
   "id": "4b8e90e2",
   "metadata": {},
   "outputs": [
    {
     "name": "stdout",
     "output_type": "stream",
     "text": [
      "-----------------------------------------\n",
      "              Result                     \n",
      "-----------------------------------------\n",
      "F-Measure = 0.9474 at (0.01, 0.46)\n"
     ]
    }
   ],
   "source": [
    "Result = glr.findHParams(Signals, Regressors, normL_BA)"
   ]
  },
  {
   "cell_type": "markdown",
   "id": "0f3c511f",
   "metadata": {},
   "source": [
    "Suppose we already have our hyper-parameters or want to expirement directely using the *GSPRegression()* function and *metricsprf()*. "
   ]
  },
  {
   "cell_type": "code",
   "execution_count": 13,
   "id": "beb7bec7",
   "metadata": {},
   "outputs": [
    {
     "data": {
      "text/plain": [
       "(0.9473684210526315,\n",
       " 0.9473684210526315,\n",
       " 0.9473684210526315,\n",
       " 0.8371851650425066)"
      ]
     },
     "execution_count": 13,
     "metadata": {},
     "output_type": "execute_result"
    }
   ],
   "source": [
    "L = glr.GSPRegression(Signals, Regressors, 0.01, 0.46)[0]\n",
    "glr.metricsprf(normL_BA, L)"
   ]
  }
 ],
 "metadata": {
  "kernelspec": {
   "display_name": "Python 3 (ipykernel)",
   "language": "python",
   "name": "python3"
  },
  "language_info": {
   "codemirror_mode": {
    "name": "ipython",
    "version": 3
   },
   "file_extension": ".py",
   "mimetype": "text/x-python",
   "name": "python",
   "nbconvert_exporter": "python",
   "pygments_lexer": "ipython3",
   "version": "3.9.10"
  }
 },
 "nbformat": 4,
 "nbformat_minor": 5
}
