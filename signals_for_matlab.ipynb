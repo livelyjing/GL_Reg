{
 "cells": [
  {
   "cell_type": "code",
   "execution_count": 5,
   "id": "ea38851a",
   "metadata": {},
   "outputs": [],
   "source": [
    "import numpy as np\n",
    "import networkx as nx\n",
    "\n",
    "import GL_Reg as glr"
   ]
  },
  {
   "cell_type": "code",
   "execution_count": 6,
   "id": "aa597d6e",
   "metadata": {},
   "outputs": [],
   "source": [
    "G_BA = nx.barabasi_albert_graph(20,1,seed = 77)\n",
    "L_BA = nx.laplacian_matrix(G_BA).toarray()\n",
    "normL_BA = (L_BA.shape[0]/np.trace(L_BA))*L_BA"
   ]
  },
  {
   "cell_type": "code",
   "execution_count": 7,
   "id": "7a957935",
   "metadata": {},
   "outputs": [],
   "source": [
    "S, R = glr.genNormal(G_BA)"
   ]
  },
  {
   "cell_type": "code",
   "execution_count": 9,
   "id": "40b1722e",
   "metadata": {},
   "outputs": [],
   "source": [
    "file_location_path = \"S_BA_norm.mat\"\n",
    "glr.saveData(file_location_path, S)"
   ]
  }
 ],
 "metadata": {
  "kernelspec": {
   "display_name": "Python 3 (ipykernel)",
   "language": "python",
   "name": "python3"
  },
  "language_info": {
   "codemirror_mode": {
    "name": "ipython",
    "version": 3
   },
   "file_extension": ".py",
   "mimetype": "text/x-python",
   "name": "python",
   "nbconvert_exporter": "python",
   "pygments_lexer": "ipython3",
   "version": "3.9.12"
  }
 },
 "nbformat": 4,
 "nbformat_minor": 5
}
